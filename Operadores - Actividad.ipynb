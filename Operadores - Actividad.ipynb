{
 "cells": [
  {
   "cell_type": "markdown",
   "metadata": {},
   "source": [
    "## Operadores - Actividad"
   ]
  },
  {
   "cell_type": "markdown",
   "metadata": {},
   "source": [
    "1) Pedir al usuario dos números y mostrar por pantalla la suma de ellos."
   ]
  },
  {
   "cell_type": "code",
   "execution_count": 1,
   "metadata": {},
   "outputs": [
    {
     "name": "stdout",
     "output_type": "stream",
     "text": [
      "Los numeros ingresados son: 5 y 6\n"
     ]
    }
   ],
   "source": [
    "numero_1=int(input('Ingrese un numero por favor:'))\n",
    "numero_2=int(input('Ingrese otro numero por favor:'))\n",
    "print(f'Los numeros ingresados son: {numero_1} y {numero_2}')"
   ]
  },
  {
   "cell_type": "markdown",
   "metadata": {},
   "source": [
    "2) Calcular el perímetro y área de un rectángulo dada su base y su altura (el usuario debe introducir por teclado los dos valores)."
   ]
  },
  {
   "cell_type": "code",
   "execution_count": 3,
   "metadata": {},
   "outputs": [
    {
     "name": "stdout",
     "output_type": "stream",
     "text": [
      "El area del  rectangulo es de 30.0 cm y el perimetro es de: 22.0 cm\n"
     ]
    }
   ],
   "source": [
    "base = float(input('Ingrese un valor para la base del rectangulo:  '))\n",
    "altura = float(input('Ingrese un valor para la altura del rectangulo: '))\n",
    "area = base * altura\n",
    "perimetro = 2 * ( base + altura)\n",
    "print(f'El area del  rectangulo es de {area} cm y el perimetro es de: {perimetro} cm')"
   ]
  },
  {
   "cell_type": "markdown",
   "metadata": {},
   "source": [
    "3) Calcular el resultado de elevar un número entero a otro número entero (por ejemplo, 5 elevado a 3 = 5^3 = 5*5*5)."
   ]
  },
  {
   "cell_type": "code",
   "execution_count": 4,
   "metadata": {},
   "outputs": [
    {
     "name": "stdout",
     "output_type": "stream",
     "text": [
      "625\n"
     ]
    }
   ],
   "source": [
    "a = 5\n",
    "b = 4\n",
    "c = 5 ** 4\n",
    "print(c)"
   ]
  },
  {
   "cell_type": "markdown",
   "metadata": {},
   "source": [
    "4) Escribe un programa que convierta grados Celsius a grados Fahrenheit utilizando la fórmula: **F = (C * 9/5) + 32**"
   ]
  },
  {
   "cell_type": "code",
   "execution_count": 5,
   "metadata": {},
   "outputs": [
    {
     "name": "stdout",
     "output_type": "stream",
     "text": [
      "Son 86.0° Farenheit.\n"
     ]
    }
   ],
   "source": [
    "c = float(input('Ingrese la cantidad de grados Celsius a calcular en Farenheit: '))\n",
    "f = ( c * ( 9/5 )) + 32\n",
    "print(f'Son {f}° Farenheit.')"
   ]
  },
  {
   "cell_type": "markdown",
   "metadata": {},
   "source": [
    "5) Pedir al usuario su edad y mostrar por pantalla si es mayor de edad o no. (Mayor de edad >= 18)"
   ]
  },
  {
   "cell_type": "code",
   "execution_count": 7,
   "metadata": {},
   "outputs": [
    {
     "name": "stdout",
     "output_type": "stream",
     "text": [
      "Sos un guachin aun\n"
     ]
    }
   ],
   "source": [
    "edad = int(input('Ingrese su edad: '))\n",
    "if edad >= 18:\n",
    "    print('Sos mayor de edad')\n",
    "else:\n",
    "    print('Sos un guachin aún')"
   ]
  },
  {
   "cell_type": "markdown",
   "metadata": {},
   "source": [
    "6) Comprobar si el numero ingresado por el usuario es par o impar."
   ]
  },
  {
   "cell_type": "code",
   "execution_count": 11,
   "metadata": {},
   "outputs": [
    {
     "name": "stdout",
     "output_type": "stream",
     "text": [
      "El numero ingresado es impar\n"
     ]
    }
   ],
   "source": [
    "numero = float(input('Ingrese un numero: '))\n",
    "calculo = numero % 2\n",
    "if calculo == 0:\n",
    "    print('El numero ingresado es par')\n",
    "else:\n",
    "    print('El numero ingresado es impar')"
   ]
  },
  {
   "cell_type": "markdown",
   "metadata": {},
   "source": [
    "7) Pedir al usuario que ingrese su dirección email y luego mostrar un mensaje indicando si la dirección es válida o no. Una dirección se considerará válida si contiene el símbolo \"@\"."
   ]
  },
  {
   "cell_type": "code",
   "execution_count": 13,
   "metadata": {},
   "outputs": [
    {
     "name": "stdout",
     "output_type": "stream",
     "text": [
      "Segui intentando mostro.\n"
     ]
    }
   ],
   "source": [
    "mail = input('Ingrese su direccion de mail por favor: ')\n",
    "if \"@\" in mail :\n",
    "    print('El mail ingresado es correcto')\n",
    "else:\n",
    "    print('Segui intentando mostro.')\n",
    "    "
   ]
  },
  {
   "cell_type": "markdown",
   "metadata": {},
   "source": [
    "8) Dado un número de dos cifras, diseñe un algoritmo que permita obtener el número invertido. Ejemplo, si se introduce 23 que muestre 32. (Recordar que las cadenas pueden tratarse como listas de caracteres)."
   ]
  },
  {
   "cell_type": "code",
   "execution_count": 21,
   "metadata": {},
   "outputs": [
    {
     "name": "stdout",
     "output_type": "stream",
     "text": [
      "El numero invertido es: 54\n"
     ]
    }
   ],
   "source": [
    "numero = int(input('Ingrese un numero de dos cifras para ser invertido:'))\n",
    "numero_str=str(numero)\n",
    "numero_invertido_str = numero_str[::-1]\n",
    "numero_invertido = int(numero_invertido_str)\n",
    "print(f'El numero invertido es: {numero_invertido}')"
   ]
  },
  {
   "cell_type": "markdown",
   "metadata": {},
   "source": [
    "9) Crea un programa que pida al usuario dos números y muestre True si ambos son mayores que 10."
   ]
  },
  {
   "cell_type": "code",
   "execution_count": 25,
   "metadata": {},
   "outputs": [
    {
     "name": "stdout",
     "output_type": "stream",
     "text": [
      "False\n"
     ]
    }
   ],
   "source": [
    "numero_1 = float(input('Ingrese un numero: '))\n",
    "numero_2 = float(input('Ingrese otro numero: '))\n",
    "print(numero_1 and numero_2 > 10)"
   ]
  },
  {
   "cell_type": "markdown",
   "metadata": {},
   "source": [
    "10) Escribe un programa que verifique si un número ingresado por el usuario es divisible por 3 y por 5."
   ]
  },
  {
   "cell_type": "code",
   "execution_count": 28,
   "metadata": {},
   "outputs": [
    {
     "name": "stdout",
     "output_type": "stream",
     "text": [
      "El numero ingresado no es divisible por 3 ni 5\n"
     ]
    }
   ],
   "source": [
    "numero_ingresado = float(input('Ingrese un numero: '))\n",
    "calculo = numero_ingresado % 3 \n",
    "calculo_1 = numero_ingresado % 5\n",
    "if calculo == 0 and calculo_1 == 0:\n",
    "    print('El numero es divisible por 3 y 5')\n",
    "else:\n",
    "    print('El numero ingresado no es divisible por 3 ni 5')"
   ]
  },
  {
   "cell_type": "markdown",
   "metadata": {},
   "source": [
    "11) Utilizando la información del punto 5, preguntar al usuario si posee carnet de conducir, luego verificar si puede conducir un automóvil."
   ]
  },
  {
   "cell_type": "code",
   "execution_count": 37,
   "metadata": {},
   "outputs": [
    {
     "name": "stdout",
     "output_type": "stream",
     "text": [
      "Sos mayor de edad\n",
      "Ahh la tenes re clara rey!\n"
     ]
    }
   ],
   "source": [
    "edad = int(input('Ingrese su edad: '))\n",
    "if edad >= 18:\n",
    "    print('Sos mayor de edad')\n",
    "    carnet = input('Posee carnet de conducir?')\n",
    "    carnet_minusculas = carnet.lower()\n",
    "    if carnet_minusculas == 'si' :\n",
    "        print('Ahh la tenes re clara rey!')\n",
    "    else:\n",
    "        print('No pasa nada capo ya lo vas a tener pronto')\n",
    "else:\n",
    "    print('Sos un guachin aún')"
   ]
  },
  {
   "cell_type": "markdown",
   "metadata": {},
   "source": [
    "12) Pide al usuario un número y verifica si es positivo y no es mayor que 100."
   ]
  },
  {
   "cell_type": "code",
   "execution_count": 39,
   "metadata": {},
   "outputs": [
    {
     "name": "stdout",
     "output_type": "stream",
     "text": [
      "El numero ingresado no es valido\n"
     ]
    }
   ],
   "source": [
    "numero = float(input('Ingrese un numero mayor que 0m y menor que 100: '))\n",
    "if numero > 0 and numero < 100:\n",
    "    print('El numero ingresado es mayor que 0 y menor que 100')\n",
    "else:\n",
    "    print('El numero ingresado no es valido')"
   ]
  },
  {
   "cell_type": "markdown",
   "metadata": {},
   "source": [
    "13) Crear un programa que valide si un número ingresado por el usuario es par y mayor que 20."
   ]
  },
  {
   "cell_type": "code",
   "execution_count": 43,
   "metadata": {},
   "outputs": [
    {
     "name": "stdout",
     "output_type": "stream",
     "text": [
      "Cumple con los requisitos mostro el numero es par y mayor que 20\n"
     ]
    }
   ],
   "source": [
    "numero_ingresado = float(input('Ingrese un numero: '))\n",
    "calculo = numero_ingresado % 2\n",
    "if calculo == 0 and numero_ingresado > 20:\n",
    "    print('Cumple con los requisitos mostro el numero es par y mayor que 20')\n",
    "else:\n",
    "    print('Ingrese nuevamente el numero, flashaste')\n",
    "    "
   ]
  },
  {
   "cell_type": "markdown",
   "metadata": {},
   "source": [
    "14) Dada la variable **numero = 5**, realizar la operación necesaria para que número sea igual a 8. Luego imprimir en pantalla el nuevo valor de número y realizar una nueva operación para que el valor de número sea igual a 4 y mostrar en pantalla el nuevo valor."
   ]
  },
  {
   "cell_type": "code",
   "execution_count": 45,
   "metadata": {},
   "outputs": [
    {
     "name": "stdout",
     "output_type": "stream",
     "text": [
      "8\n",
      "4\n"
     ]
    }
   ],
   "source": [
    "numero = 5\n",
    "numero +=3\n",
    "print(numero)\n",
    "numero -= 4\n",
    "print(numero)"
   ]
  },
  {
   "cell_type": "markdown",
   "metadata": {},
   "source": [
    "15) Dadas las variables altura = \"10\" y base = 5, calcular el área de un triángulo y mostrar el resultado en pantalla. ¿Por qué el resultado es un error? ¿Cómo lo corregirías?"
   ]
  },
  {
   "cell_type": "code",
   "execution_count": 47,
   "metadata": {},
   "outputs": [
    {
     "name": "stdout",
     "output_type": "stream",
     "text": [
      "25.0\n"
     ]
    }
   ],
   "source": [
    "altura = int('10')\n",
    "base = 5\n",
    "area = (altura * base)/2\n",
    "print(area)"
   ]
  },
  {
   "cell_type": "markdown",
   "metadata": {},
   "source": [
    "16) Crea un programa que calcule el promedio de tres calificaciones ingresadas por el usuario, y comprobar si el alumno aprobó o no (aprueba con nota mayor a 6)."
   ]
  },
  {
   "cell_type": "code",
   "execution_count": 52,
   "metadata": {},
   "outputs": [
    {
     "name": "stdout",
     "output_type": "stream",
     "text": [
      "Has aprobado el curso, muy bien cerebrito\n"
     ]
    }
   ],
   "source": [
    "nota_1 = float(input('Primero nota: '))\n",
    "nota_2 = float(input('Segunda nota: '))\n",
    "nota_3 = float(input('Tercer nota: '))\n",
    "calculo = (nota_1 + nota_2 + nota_3)/3\n",
    "if calculo > 6:\n",
    "    print('Has aprobado el curso, muy bien cerebrito')\n",
    "else:\n",
    "    print('Reprobaste guachin, ponete a estudiar!')"
   ]
  },
  {
   "cell_type": "markdown",
   "metadata": {},
   "source": [
    "17) Pide al usuario su edad y calcula cuántos días, horas y minutos ha vivido aproximadamente (asumiendo 365 días por año)."
   ]
  },
  {
   "cell_type": "code",
   "execution_count": 53,
   "metadata": {},
   "outputs": [
    {
     "name": "stdout",
     "output_type": "stream",
     "text": [
      "Segun tu edad has vivido 8760 dias , 210240 horas y 12614400 minutos\n"
     ]
    }
   ],
   "source": [
    "edad = int(input('Ingresa tu edad:'))\n",
    "calculo_dias = edad * 365 \n",
    "calculo_horas = edad * (24*365)\n",
    "calculo_minutos = edad * (60*24*365) \n",
    "print(f'Segun tu edad has vivido {calculo_dias} dias , {calculo_horas} horas y {calculo_minutos} minutos')"
   ]
  },
  {
   "cell_type": "markdown",
   "metadata": {},
   "source": [
    "18) Crea un programa que verifique si un número ingresado por el usuario es múltiplo de 4 y de 6 al mismo tiempo."
   ]
  },
  {
   "cell_type": "code",
   "execution_count": 57,
   "metadata": {},
   "outputs": [
    {
     "name": "stdout",
     "output_type": "stream",
     "text": [
      "El numero ingresado es incorrecto.\n"
     ]
    }
   ],
   "source": [
    "numero = float(input('Ingrese un numero:'))\n",
    "multiplo_de_4 = numero % 4\n",
    "multiplo_de_6 = numero % 6\n",
    "if multiplo_de_4 == 0 and multiplo_de_6 == 0 :\n",
    "    print('El numero ingresado es multiplo de 4 y de 6')\n",
    "else:\n",
    "    print('El numero ingresado es incorrecto.')"
   ]
  },
  {
   "cell_type": "markdown",
   "metadata": {},
   "source": [
    "19) "
   ]
  }
 ],
 "metadata": {
  "kernelspec": {
   "display_name": "Python 3",
   "language": "python",
   "name": "python3"
  },
  "language_info": {
   "codemirror_mode": {
    "name": "ipython",
    "version": 3
   },
   "file_extension": ".py",
   "mimetype": "text/x-python",
   "name": "python",
   "nbconvert_exporter": "python",
   "pygments_lexer": "ipython3",
   "version": "3.12.2"
  }
 },
 "nbformat": 4,
 "nbformat_minor": 2
}
